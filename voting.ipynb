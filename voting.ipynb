{
 "cells": [
  {
   "cell_type": "markdown",
   "metadata": {},
   "source": [
    "# Voting methods\n",
    "\n",
    "This notebook compares a number of common voting methods.\n",
    "\n",
    "For now, we will assume that all voters exist on a 2D political axis (it's common to treat voters as lying along economic and social axes) ranging from 0 to 5. Voters will prefer candidates that are closest in the space, with the order of preference determined by distance from the voter."
   ]
  },
  {
   "cell_type": "code",
   "execution_count": 13,
   "metadata": {},
   "outputs": [],
   "source": [
    "from math import sqrt\n",
    "\n",
    "def distance(voter, candidate):\n",
    "    return sqrt((voter['x'] - candidate['x'])**2 + (voter['y'] - candidate['y'])**2)\n",
    "\n",
    "voter1 = {'x': 0.5, 'y': 1.5}\n",
    "candidate1 = {'x': 1.0, 'y': 2.0}\n",
    "candidate2 = {'x': 4.0, 'y': 4.0}\n",
    "\n",
    "assert distance(voter1, candidate1) < distance(voter1, candidate2)"
   ]
  },
  {
   "cell_type": "markdown",
   "metadata": {},
   "source": [
    "For these initial examples, we will use an electoral base of 100 voters. Voters will exist in the 8-bloc breakdown of registered voters described by [Pew's Political Typology project](http://www.people-press.org/2017/10/24/political-typology-reveals-deep-fissures-on-the-right-and-left/). Within each category there will be some variation. Later, we may experiment with different distributions of voters.\n",
    "\n",
    "For candidates, we will use four parties: a center-left party (the Donkeys), a center-right party (the Elephants), a far-left party (the Leaves), and a far-right party (the Hedgehogs). All resemblences to real-life political parties are purely coincidental."
   ]
  },
  {
   "cell_type": "code",
   "execution_count": 20,
   "metadata": {},
   "outputs": [
    {
     "data": {
      "text/html": [
       "<div>\n",
       "<style scoped>\n",
       "    .dataframe tbody tr th:only-of-type {\n",
       "        vertical-align: middle;\n",
       "    }\n",
       "\n",
       "    .dataframe tbody tr th {\n",
       "        vertical-align: top;\n",
       "    }\n",
       "\n",
       "    .dataframe thead th {\n",
       "        text-align: right;\n",
       "    }\n",
       "</style>\n",
       "<table border=\"1\" class=\"dataframe\">\n",
       "  <thead>\n",
       "    <tr style=\"text-align: right;\">\n",
       "      <th></th>\n",
       "      <th>x</th>\n",
       "      <th>y</th>\n",
       "    </tr>\n",
       "  </thead>\n",
       "  <tbody>\n",
       "    <tr>\n",
       "      <th>31</th>\n",
       "      <td>3.760675</td>\n",
       "      <td>3.486737</td>\n",
       "    </tr>\n",
       "    <tr>\n",
       "      <th>72</th>\n",
       "      <td>0.997810</td>\n",
       "      <td>0.771556</td>\n",
       "    </tr>\n",
       "    <tr>\n",
       "      <th>17</th>\n",
       "      <td>4.202668</td>\n",
       "      <td>3.817082</td>\n",
       "    </tr>\n",
       "    <tr>\n",
       "      <th>32</th>\n",
       "      <td>3.497291</td>\n",
       "      <td>3.500277</td>\n",
       "    </tr>\n",
       "    <tr>\n",
       "      <th>91</th>\n",
       "      <td>0.408906</td>\n",
       "      <td>0.456833</td>\n",
       "    </tr>\n",
       "  </tbody>\n",
       "</table>\n",
       "</div>"
      ],
      "text/plain": [
       "           x         y\n",
       "31  3.760675  3.486737\n",
       "72  0.997810  0.771556\n",
       "17  4.202668  3.817082\n",
       "32  3.497291  3.500277\n",
       "91  0.408906  0.456833"
      ]
     },
     "execution_count": 20,
     "metadata": {},
     "output_type": "execute_result"
    }
   ],
   "source": [
    "import numpy as np\n",
    "import pandas as pd\n",
    "from statistics import mean\n",
    "\n",
    "def generate_bloc(n, x, y):\n",
    "    sigma = 0.2\n",
    "    return [(t[0], t[1]) for t in zip(np.random.normal(x, sigma, n), np.random.normal(y, sigma, n))]\n",
    "\n",
    "def generate_population():\n",
    "    blocs = [\n",
    "        (15, 4.5, 4.5),\n",
    "        (7, 4.0, 4.0),\n",
    "        (12, 3.5, 3.5),\n",
    "        (11, 3.0, 3.0),\n",
    "        (9, 2.0, 2.0),\n",
    "        (14, 1.5, 1.5),\n",
    "        (13, 1.0, 1.0),\n",
    "        (19, 0.5, 0.5)\n",
    "    ]\n",
    "    \n",
    "    df = pd.DataFrame([voter for bloc in blocs for voter in generate_bloc(*bloc)])\n",
    "    df.columns = ['x', 'y']\n",
    "    return df\n",
    "\n",
    "voters = generate_population()\n",
    "voters.sample(5)"
   ]
  },
  {
   "cell_type": "code",
   "execution_count": 21,
   "metadata": {},
   "outputs": [
    {
     "data": {
      "text/plain": [
       "<matplotlib.axes._subplots.AxesSubplot at 0x1a1a52a898>"
      ]
     },
     "execution_count": 21,
     "metadata": {},
     "output_type": "execute_result"
    },
    {
     "data": {
      "image/png": "[encoded data removed]",
      "text/plain": [
       "<matplotlib.figure.Figure at 0x1a1a52a0b8>"
      ]
     },
     "metadata": {},
     "output_type": "display_data"
    }
   ],
   "source": [
    "import seaborn as sns\n",
    "import matplotlib.pyplot as plt\n",
    "%matplotlib inline\n",
    "\n",
    "sns.scatterplot(x='x', y='y', data=voters)"
   ]
  },
  {
   "cell_type": "code",
   "execution_count": null,
   "metadata": {},
   "outputs": [],
   "source": []
  }
 ],
 "metadata": {
  "kernelspec": {
   "display_name": "Python [conda env:anaconda3]",
   "language": "python",
   "name": "conda-env-anaconda3-py"
  },
  "language_info": {
   "codemirror_mode": {
    "name": "ipython",
    "version": 3
   },
   "file_extension": ".py",
   "mimetype": "text/x-python",
   "name": "python",
   "nbconvert_exporter": "python",
   "pygments_lexer": "ipython3",
   "version": "3.6.3"
  }
 },
 "nbformat": 4,
 "nbformat_minor": 2
}
