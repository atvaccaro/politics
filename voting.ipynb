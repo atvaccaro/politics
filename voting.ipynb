{
 "cells": [
  {
   "cell_type": "markdown",
   "metadata": {},
   "source": [
    "# Voting methods\n",
    "\n",
    "This notebook compares a number of common voting methods.\n",
    "\n",
    "For now, we will assume that all voters exist on a 2D political axis (it's common to treat voters as lying along economic and social axes) ranging from 0 to 5. Voters will prefer candidates that are closest in the space, with the order of preference determined by distance from the voter."
   ]
  },
  {
   "cell_type": "code",
   "execution_count": 1,
   "metadata": {},
   "outputs": [],
   "source": [
    "from collections import namedtuple\n",
    "from math import sqrt\n",
    "Person = namedtuple('Person', 'x y')\n",
    "\n",
    "def distance(voter, candidate):\n",
    "    return sqrt((voter.x - candidate.x)**2 + (voter.y - candidate.y)**2)\n",
    "\n",
    "voter1 = Person(0.5, 1.5)\n",
    "candidate1 = Person(1.0, 2.0)\n",
    "candidate2 = Person(4.0, 4.0)\n",
    "\n",
    "assert distance(voter1, candidate1) < distance(voter1, candidate2)"
   ]
  },
  {
   "cell_type": "markdown",
   "metadata": {},
   "source": [
    "For these initial examples, we will use an electoral base of 100 voters. Voters will exist in the 8-bloc breakdown of registered voters described by [Pew's Political Typology project](http://www.people-press.org/2017/10/24/political-typology-reveals-deep-fissures-on-the-right-and-left/). Within each category there will be some variation. Later, we may experiment with different distributions of voters.\n",
    "\n",
    "For candidates, we will use four parties: a center-left party (the Donkeys), a center-right party (the Elephants), a far-left party (the Leaves), and a far-right party (the Hedgehogs). All resemblences to real-life political parties are purely coincidental."
   ]
  },
  {
   "cell_type": "code",
   "execution_count": 2,
   "metadata": {},
   "outputs": [
    {
     "data": {
      "text/plain": [
       "(100, 2.303570287903615, 2.3131011229557004)"
      ]
     },
     "execution_count": 2,
     "metadata": {},
     "output_type": "execute_result"
    }
   ],
   "source": [
    "import numpy as np\n",
    "from statistics import mean\n",
    "\n",
    "def generate_bloc(n, x, y):\n",
    "    return [Person(t[0], t[1]) for t in zip(np.random.normal(x, 0.1, n), np.random.normal(y, 0.1, n))]\n",
    "\n",
    "def generate_population():\n",
    "    blocs = [\n",
    "        (15, 4.5, 4.5),\n",
    "        (7, 4.0, 4.0),\n",
    "        (12, 3.5, 3.5),\n",
    "        (11, 3.0, 3.0),\n",
    "        (9, 2.0, 2.0),\n",
    "        (14, 1.5, 1.5),\n",
    "        (13, 1.0, 1.0),\n",
    "        (19, 0.5, 0.5)\n",
    "    ]\n",
    "    \n",
    "    return [voter for bloc in blocs for voter in generate_bloc(*bloc)]\n",
    "\n",
    "voters = generate_population()\n",
    "len(voters), mean(v.x for v in voters), mean(v.y for v in voters)"
   ]
  },
  {
   "cell_type": "code",
   "execution_count": 3,
   "metadata": {},
   "outputs": [
    {
     "data": {
      "text/plain": [
       "<matplotlib.axes._subplots.AxesSubplot at 0x1122e0e48>"
      ]
     },
     "execution_count": 3,
     "metadata": {},
     "output_type": "execute_result"
    },
    {
     "data": {
      "image/png": "[encoded data removed]",
      "text/plain": [
       "<matplotlib.figure.Figure at 0x10b147550>"
      ]
     },
     "metadata": {},
     "output_type": "display_data"
    }
   ],
   "source": [
    "import seaborn as sns; sns.set()\n",
    "import matplotlib.pyplot as plt\n",
    "%matplotlib inline\n",
    "\n",
    "sns.scatterplot(x=[v.x for v in voters], y=[v.y for v in voters])"
   ]
  },
  {
   "cell_type": "code",
   "execution_count": null,
   "metadata": {},
   "outputs": [],
   "source": []
  }
 ],
 "metadata": {
  "kernelspec": {
   "display_name": "Python [conda env:anaconda3]",
   "language": "python",
   "name": "conda-env-anaconda3-py"
  },
  "language_info": {
   "codemirror_mode": {
    "name": "ipython",
    "version": 3
   },
   "file_extension": ".py",
   "mimetype": "text/x-python",
   "name": "python",
   "nbconvert_exporter": "python",
   "pygments_lexer": "ipython3",
   "version": "3.6.3"
  }
 },
 "nbformat": 4,
 "nbformat_minor": 2
}
