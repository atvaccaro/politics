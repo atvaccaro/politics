{
 "cells": [
  {
   "cell_type": "markdown",
   "metadata": {},
   "source": [
    "# Voting methods\n",
    "\n",
    "This notebook compares a number of common voting methods.\n",
    "\n",
    "For now, we will assume that all voters exist on a 2D political axis (it's common to treat voters as lying along economic and social axes) ranging from 0 to 5. Voters will prefer candidates that are closest in the space, with the order of preference determined by distance from the voter."
   ]
  },
  {
   "cell_type": "code",
   "execution_count": 13,
   "metadata": {},
   "outputs": [],
   "source": [
    "from math import sqrt\n",
    "\n",
    "def distance(voter, candidate):\n",
    "    return sqrt((voter['x'] - candidate['x'])**2 + (voter['y'] - candidate['y'])**2)\n",
    "\n",
    "voter1 = {'x': 0.5, 'y': 1.5}\n",
    "candidate1 = {'x': 1.0, 'y': 2.0}\n",
    "candidate2 = {'x': 4.0, 'y': 4.0}\n",
    "\n",
    "assert distance(voter1, candidate1) < distance(voter1, candidate2)"
   ]
  },
  {
   "cell_type": "markdown",
   "metadata": {},
   "source": [
    "For these initial examples, we will use an electoral base of 100 voters. Voters will exist in the 8-bloc breakdown of registered voters described by [Pew's Political Typology project](http://www.people-press.org/2017/10/24/political-typology-reveals-deep-fissures-on-the-right-and-left/). Within each category there will be some variation. Later, we may experiment with different distributions of voters.\n",
    "\n",
    "For candidates, we will use four parties: a center-left party (the Donkeys), a center-right party (the Elephants), a far-left party (the Leaves), and a far-right party (the Hedgehogs). All resemblences to real-life political parties are purely coincidental."
   ]
  },
  {
   "cell_type": "code",
   "execution_count": 42,
   "metadata": {},
   "outputs": [
    {
     "data": {
      "text/html": [
       "<div>\n",
       "<style scoped>\n",
       "    .dataframe tbody tr th:only-of-type {\n",
       "        vertical-align: middle;\n",
       "    }\n",
       "\n",
       "    .dataframe tbody tr th {\n",
       "        vertical-align: top;\n",
       "    }\n",
       "\n",
       "    .dataframe thead th {\n",
       "        text-align: right;\n",
       "    }\n",
       "</style>\n",
       "<table border=\"1\" class=\"dataframe\">\n",
       "  <thead>\n",
       "    <tr style=\"text-align: right;\">\n",
       "      <th></th>\n",
       "      <th>x</th>\n",
       "      <th>y</th>\n",
       "    </tr>\n",
       "  </thead>\n",
       "  <tbody>\n",
       "    <tr>\n",
       "      <th>16</th>\n",
       "      <td>4.142209</td>\n",
       "      <td>3.557215</td>\n",
       "    </tr>\n",
       "    <tr>\n",
       "      <th>25</th>\n",
       "      <td>3.160411</td>\n",
       "      <td>3.416748</td>\n",
       "    </tr>\n",
       "    <tr>\n",
       "      <th>32</th>\n",
       "      <td>3.762340</td>\n",
       "      <td>3.739329</td>\n",
       "    </tr>\n",
       "    <tr>\n",
       "      <th>42</th>\n",
       "      <td>3.046455</td>\n",
       "      <td>2.844903</td>\n",
       "    </tr>\n",
       "    <tr>\n",
       "      <th>53</th>\n",
       "      <td>2.218673</td>\n",
       "      <td>1.710120</td>\n",
       "    </tr>\n",
       "  </tbody>\n",
       "</table>\n",
       "</div>"
      ],
      "text/plain": [
       "           x         y\n",
       "16  4.142209  3.557215\n",
       "25  3.160411  3.416748\n",
       "32  3.762340  3.739329\n",
       "42  3.046455  2.844903\n",
       "53  2.218673  1.710120"
      ]
     },
     "execution_count": 42,
     "metadata": {},
     "output_type": "execute_result"
    }
   ],
   "source": [
    "import numpy as np\n",
    "import pandas as pd\n",
    "from statistics import mean\n",
    "\n",
    "def generate_bloc(n, x, y):\n",
    "    sigma = 0.5\n",
    "    return [(t[0], t[1]) for t in zip(np.random.normal(x, sigma, n), np.random.normal(y, sigma, n))]\n",
    "\n",
    "def generate_population():\n",
    "    blocs = [\n",
    "        (15, 4.5, 4.5),\n",
    "        (7, 4.0, 4.0),\n",
    "        (12, 3.5, 3.5),\n",
    "        (11, 3.0, 3.0),\n",
    "        (9, 2.0, 2.0),\n",
    "        (14, 1.5, 1.5),\n",
    "        (13, 1.0, 1.0),\n",
    "        (19, 0.5, 0.5)\n",
    "    ]\n",
    "    \n",
    "    df = pd.DataFrame([voter for bloc in blocs for voter in generate_bloc(*bloc)])\n",
    "    df.columns = ['x', 'y']\n",
    "    return df\n",
    "\n",
    "voters = generate_population()\n",
    "voters.sample(5)"
   ]
  },
  {
   "cell_type": "code",
   "execution_count": 45,
   "metadata": {},
   "outputs": [
    {
     "data": {
      "text/html": [
       "<div>\n",
       "<style scoped>\n",
       "    .dataframe tbody tr th:only-of-type {\n",
       "        vertical-align: middle;\n",
       "    }\n",
       "\n",
       "    .dataframe tbody tr th {\n",
       "        vertical-align: top;\n",
       "    }\n",
       "\n",
       "    .dataframe thead th {\n",
       "        text-align: right;\n",
       "    }\n",
       "</style>\n",
       "<table border=\"1\" class=\"dataframe\">\n",
       "  <thead>\n",
       "    <tr style=\"text-align: right;\">\n",
       "      <th></th>\n",
       "      <th>x</th>\n",
       "      <th>y</th>\n",
       "      <th>choice</th>\n",
       "    </tr>\n",
       "  </thead>\n",
       "  <tbody>\n",
       "    <tr>\n",
       "      <th>34</th>\n",
       "      <td>3.113763</td>\n",
       "      <td>2.826026</td>\n",
       "      <td>elephants</td>\n",
       "    </tr>\n",
       "    <tr>\n",
       "      <th>36</th>\n",
       "      <td>4.009740</td>\n",
       "      <td>2.546754</td>\n",
       "      <td>hedgehogs</td>\n",
       "    </tr>\n",
       "    <tr>\n",
       "      <th>54</th>\n",
       "      <td>1.420951</td>\n",
       "      <td>1.210425</td>\n",
       "      <td>donkeys</td>\n",
       "    </tr>\n",
       "    <tr>\n",
       "      <th>66</th>\n",
       "      <td>1.671864</td>\n",
       "      <td>1.675164</td>\n",
       "      <td>donkeys</td>\n",
       "    </tr>\n",
       "    <tr>\n",
       "      <th>2</th>\n",
       "      <td>3.668874</td>\n",
       "      <td>3.729621</td>\n",
       "      <td>elephants</td>\n",
       "    </tr>\n",
       "  </tbody>\n",
       "</table>\n",
       "</div>"
      ],
      "text/plain": [
       "           x         y     choice\n",
       "34  3.113763  2.826026  elephants\n",
       "36  4.009740  2.546754  hedgehogs\n",
       "54  1.420951  1.210425    donkeys\n",
       "66  1.671864  1.675164    donkeys\n",
       "2   3.668874  3.729621  elephants"
      ]
     },
     "execution_count": 45,
     "metadata": {},
     "output_type": "execute_result"
    }
   ],
   "source": [
    "# made-up numbers\n",
    "candidates = [\n",
    "    {'party': 'hedgehogs', 'x': 4.5, 'y': 2},\n",
    "    {'party': 'elephants', 'x': 3.5, 'y': 4},\n",
    "    {'party': 'donkeys', 'x': 2, 'y': 2},\n",
    "    {'party': 'leaves', 'x': 0.5, 'y': 2}\n",
    "]\n",
    "def order_of_preference(voter):\n",
    "    return sorted(candidates, key=lambda c: distance(voter, c))[0]['party']\n",
    "\n",
    "voters['choice'] = voters.apply(order_of_preference, axis=1)\n",
    "voters.sample(5)"
   ]
  },
  {
   "cell_type": "code",
   "execution_count": 46,
   "metadata": {},
   "outputs": [
    {
     "data": {
      "text/plain": [
       "<matplotlib.axes._subplots.AxesSubplot at 0x1a1ad9e5c0>"
      ]
     },
     "execution_count": 46,
     "metadata": {},
     "output_type": "execute_result"
    },
    {
     "data": {
      "image/png": "[encoded data removed]",
      "text/plain": [
       "<matplotlib.figure.Figure at 0x10d53fac8>"
      ]
     },
     "metadata": {},
     "output_type": "display_data"
    }
   ],
   "source": [
    "import seaborn as sns\n",
    "import matplotlib.pyplot as plt\n",
    "%matplotlib inline\n",
    "\n",
    "sns.scatterplot(x='x', y='y', hue='choice', data=voters)"
   ]
  },
  {
   "cell_type": "code",
   "execution_count": null,
   "metadata": {},
   "outputs": [],
   "source": []
  }
 ],
 "metadata": {
  "kernelspec": {
   "display_name": "Python [conda env:anaconda3]",
   "language": "python",
   "name": "conda-env-anaconda3-py"
  },
  "language_info": {
   "codemirror_mode": {
    "name": "ipython",
    "version": 3
   },
   "file_extension": ".py",
   "mimetype": "text/x-python",
   "name": "python",
   "nbconvert_exporter": "python",
   "pygments_lexer": "ipython3",
   "version": "3.6.3"
  }
 },
 "nbformat": 4,
 "nbformat_minor": 2
}
